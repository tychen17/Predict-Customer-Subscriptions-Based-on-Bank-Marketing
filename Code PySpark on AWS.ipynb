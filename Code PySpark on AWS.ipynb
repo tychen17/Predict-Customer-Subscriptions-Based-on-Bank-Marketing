{
 "cells": [
  {
   "cell_type": "code",
   "execution_count": 1,
   "id": "5721cbe2-d0f7-439b-8ce6-4f20cfd733f7",
   "metadata": {
    "execution": {
     "iopub.execute_input": "2022-12-08T08:11:39.107947Z",
     "iopub.status.busy": "2022-12-08T08:11:39.107716Z",
     "iopub.status.idle": "2022-12-08T08:12:13.082149Z",
     "shell.execute_reply": "2022-12-08T08:12:13.081458Z",
     "shell.execute_reply.started": "2022-12-08T08:11:39.107922Z"
    },
    "tags": []
   },
   "outputs": [
    {
     "data": {
      "application/vnd.jupyter.widget-view+json": {
       "model_id": "766040a455b4428fb24dbed461c10ed8",
       "version_major": 2,
       "version_minor": 0
      },
      "text/plain": [
       "VBox()"
      ]
     },
     "metadata": {},
     "output_type": "display_data"
    },
    {
     "name": "stdout",
     "output_type": "stream",
     "text": [
      "Starting Spark application\n"
     ]
    },
    {
     "data": {
      "text/html": [
       "<table>\n",
       "<tr><th>ID</th><th>YARN Application ID</th><th>Kind</th><th>State</th><th>Spark UI</th><th>Driver log</th><th>User</th><th>Current session?</th></tr><tr><td>1</td><td>application_1670483737903_0002</td><td>pyspark</td><td>idle</td><td><a target=\"_blank\" href=\"http://ip-172-31-67-221.ec2.internal:20888/proxy/application_1670483737903_0002/\" class=\"emr-proxy-link\" emr-resource=\"j-314ENYNJT0NRN\n",
       "\" application-id=\"application_1670483737903_0002\">Link</a></td><td><a target=\"_blank\" href=\"http://ip-172-31-77-195.ec2.internal:8042/node/containerlogs/container_1670483737903_0002_01_000001/livy\" >Link</a></td><td>None</td><td>✔</td></tr></table>"
      ],
      "text/plain": [
       "<IPython.core.display.HTML object>"
      ]
     },
     "metadata": {},
     "output_type": "display_data"
    },
    {
     "data": {
      "application/vnd.jupyter.widget-view+json": {
       "model_id": "",
       "version_major": 2,
       "version_minor": 0
      },
      "text/plain": [
       "FloatProgress(value=0.0, bar_style='info', description='Progress:', layout=Layout(height='25px', width='50%'),…"
      ]
     },
     "metadata": {},
     "output_type": "display_data"
    },
    {
     "name": "stdout",
     "output_type": "stream",
     "text": [
      "SparkSession available as 'spark'.\n"
     ]
    },
    {
     "data": {
      "application/vnd.jupyter.widget-view+json": {
       "model_id": "",
       "version_major": 2,
       "version_minor": 0
      },
      "text/plain": [
       "FloatProgress(value=0.0, bar_style='info', description='Progress:', layout=Layout(height='25px', width='50%'),…"
      ]
     },
     "metadata": {},
     "output_type": "display_data"
    }
   ],
   "source": [
    "df = spark.read.option(\"header\",\"true\").csv(\"s3://bia678/bank.csv\")"
   ]
  },
  {
   "cell_type": "code",
   "execution_count": 2,
   "id": "903a1b10-be46-4fed-ba29-2815cda45eea",
   "metadata": {
    "execution": {
     "iopub.execute_input": "2022-12-08T08:12:13.083352Z",
     "iopub.status.busy": "2022-12-08T08:12:13.083171Z",
     "iopub.status.idle": "2022-12-08T08:12:13.381969Z",
     "shell.execute_reply": "2022-12-08T08:12:13.381352Z",
     "shell.execute_reply.started": "2022-12-08T08:12:13.083329Z"
    },
    "tags": []
   },
   "outputs": [
    {
     "data": {
      "application/vnd.jupyter.widget-view+json": {
       "model_id": "7c057d7f5e6d48d490cd3fb7e9d4f07c",
       "version_major": 2,
       "version_minor": 0
      },
      "text/plain": [
       "VBox()"
      ]
     },
     "metadata": {},
     "output_type": "display_data"
    },
    {
     "data": {
      "application/vnd.jupyter.widget-view+json": {
       "model_id": "",
       "version_major": 2,
       "version_minor": 0
      },
      "text/plain": [
       "FloatProgress(value=0.0, bar_style='info', description='Progress:', layout=Layout(height='25px', width='50%'),…"
      ]
     },
     "metadata": {},
     "output_type": "display_data"
    },
    {
     "name": "stdout",
     "output_type": "stream",
     "text": [
      "root\n",
      " |-- age: string (nullable = true)\n",
      " |-- job: string (nullable = true)\n",
      " |-- marital: string (nullable = true)\n",
      " |-- education: string (nullable = true)\n",
      " |-- default: string (nullable = true)\n",
      " |-- housing: string (nullable = true)\n",
      " |-- loan: string (nullable = true)\n",
      " |-- contact: string (nullable = true)\n",
      " |-- day: string (nullable = true)\n",
      " |-- month: string (nullable = true)\n",
      " |-- duration: string (nullable = true)\n",
      " |-- campaign: string (nullable = true)\n",
      " |-- pdays: string (nullable = true)\n",
      " |-- previous: string (nullable = true)\n",
      " |-- poutcome: string (nullable = true)\n",
      " |-- deposit: string (nullable = true)"
     ]
    }
   ],
   "source": [
    "df.printSchema()"
   ]
  },
  {
   "cell_type": "code",
   "execution_count": 3,
   "id": "661ef1ac-d6f9-40f4-8590-58dad750b7e5",
   "metadata": {
    "execution": {
     "iopub.execute_input": "2022-12-08T08:12:13.383321Z",
     "iopub.status.busy": "2022-12-08T08:12:13.383151Z",
     "iopub.status.idle": "2022-12-08T08:12:13.457538Z",
     "shell.execute_reply": "2022-12-08T08:12:13.456585Z",
     "shell.execute_reply.started": "2022-12-08T08:12:13.383300Z"
    }
   },
   "outputs": [
    {
     "data": {
      "application/vnd.jupyter.widget-view+json": {
       "model_id": "1b614eebad174be3a13681e640b33c03",
       "version_major": 2,
       "version_minor": 0
      },
      "text/plain": [
       "VBox()"
      ]
     },
     "metadata": {},
     "output_type": "display_data"
    },
    {
     "data": {
      "application/vnd.jupyter.widget-view+json": {
       "model_id": "",
       "version_major": 2,
       "version_minor": 0
      },
      "text/plain": [
       "FloatProgress(value=0.0, bar_style='info', description='Progress:', layout=Layout(height='25px', width='50%'),…"
      ]
     },
     "metadata": {},
     "output_type": "display_data"
    },
    {
     "name": "stdout",
     "output_type": "stream",
     "text": [
      "DataFrame[age: string, job: string, marital: string, education: string, default: string, housing: string, loan: string, contact: string, day: string, month: string, duration: string, campaign: string, pdays: string, previous: string, poutcome: string, deposit: string]"
     ]
    }
   ],
   "source": [
    "df.unpersist()"
   ]
  },
  {
   "cell_type": "code",
   "execution_count": 4,
   "id": "36c40a97-a8aa-4548-a435-04e903d0cf3f",
   "metadata": {
    "execution": {
     "iopub.execute_input": "2022-12-08T08:12:13.461974Z",
     "iopub.status.busy": "2022-12-08T08:12:13.461563Z",
     "iopub.status.idle": "2022-12-08T08:12:13.746154Z",
     "shell.execute_reply": "2022-12-08T08:12:13.745425Z",
     "shell.execute_reply.started": "2022-12-08T08:12:13.461933Z"
    },
    "tags": []
   },
   "outputs": [
    {
     "data": {
      "application/vnd.jupyter.widget-view+json": {
       "model_id": "615e97b7a4cb4998a6928831f40fab37",
       "version_major": 2,
       "version_minor": 0
      },
      "text/plain": [
       "VBox()"
      ]
     },
     "metadata": {},
     "output_type": "display_data"
    },
    {
     "data": {
      "application/vnd.jupyter.widget-view+json": {
       "model_id": "",
       "version_major": 2,
       "version_minor": 0
      },
      "text/plain": [
       "FloatProgress(value=0.0, bar_style='info', description='Progress:', layout=Layout(height='25px', width='50%'),…"
      ]
     },
     "metadata": {},
     "output_type": "display_data"
    }
   ],
   "source": [
    "from pyspark.ml.feature import OneHotEncoderEstimator\n",
    "from pyspark.ml.feature import StringIndexer\n",
    "from pyspark.ml.feature import VectorAssembler"
   ]
  },
  {
   "cell_type": "code",
   "execution_count": 5,
   "id": "a6cf4595-8476-49d5-8aa6-c943afd119c7",
   "metadata": {
    "execution": {
     "iopub.execute_input": "2022-12-08T08:12:13.747853Z",
     "iopub.status.busy": "2022-12-08T08:12:13.747423Z",
     "iopub.status.idle": "2022-12-08T08:12:14.555605Z",
     "shell.execute_reply": "2022-12-08T08:12:14.554867Z",
     "shell.execute_reply.started": "2022-12-08T08:12:13.747820Z"
    },
    "tags": []
   },
   "outputs": [
    {
     "data": {
      "application/vnd.jupyter.widget-view+json": {
       "model_id": "3d8f80c2f4664b18aa163e1bcb7d347e",
       "version_major": 2,
       "version_minor": 0
      },
      "text/plain": [
       "VBox()"
      ]
     },
     "metadata": {},
     "output_type": "display_data"
    },
    {
     "data": {
      "application/vnd.jupyter.widget-view+json": {
       "model_id": "",
       "version_major": 2,
       "version_minor": 0
      },
      "text/plain": [
       "FloatProgress(value=0.0, bar_style='info', description='Progress:', layout=Layout(height='25px', width='50%'),…"
      ]
     },
     "metadata": {},
     "output_type": "display_data"
    }
   ],
   "source": [
    "df2 =  df.withColumn('age',df['age'].cast('int'))\n",
    "df2 =  df2.withColumn('duration',df2['duration'].cast('int'))\n",
    "df2 =  df2.withColumn('campaign',df2['campaign'].cast('int'))\n",
    "df2 =  df2.withColumn('pdays',df2['pdays'].cast('int'))\n",
    "df2 =  df2.withColumn('previous',df2['previous'].cast('int'))\n",
    "stages = []\n",
    "cateColumns = [\n",
    "    'job', 'marital', 'education', 'default', 'housing', 'loan', 'contact', 'poutcome'\n",
    "]\n",
    "\n",
    "for categ in cateColumns:\n",
    "    indexer = StringIndexer(inputCol = categ, outputCol = categ + 'Index')\n",
    "    encoder = OneHotEncoderEstimator(\n",
    "        inputCols=[indexer.getOutputCol()], \n",
    "        outputCols=[categ + \"classVec\"]\n",
    "    )\n",
    "    stages += [indexer, encoder]\n",
    "    \n",
    "label_indexer = StringIndexer(inputCol = 'deposit', outputCol = 'label')\n",
    "stages += [label_indexer]\n",
    "numericCols = ['age', 'duration', 'campaign', 'pdays', 'previous']\n",
    "assemblerInputs = [c + \"classVec\" for c in cateColumns] + numericCols\n",
    "assembler = VectorAssembler(inputCols=assemblerInputs, outputCol=\"features\")\n",
    "stages += [assembler]"
   ]
  },
  {
   "cell_type": "code",
   "execution_count": 6,
   "id": "7b457975-7d88-41ea-b176-bb17a2e62ed3",
   "metadata": {
    "execution": {
     "iopub.execute_input": "2022-12-08T08:12:14.557017Z",
     "iopub.status.busy": "2022-12-08T08:12:14.556768Z",
     "iopub.status.idle": "2022-12-08T08:12:25.997028Z",
     "shell.execute_reply": "2022-12-08T08:12:25.956265Z",
     "shell.execute_reply.started": "2022-12-08T08:12:14.556983Z"
    },
    "tags": []
   },
   "outputs": [
    {
     "data": {
      "application/vnd.jupyter.widget-view+json": {
       "model_id": "f371e3e320b847778651bab3cc0a9c97",
       "version_major": 2,
       "version_minor": 0
      },
      "text/plain": [
       "VBox()"
      ]
     },
     "metadata": {},
     "output_type": "display_data"
    },
    {
     "data": {
      "application/vnd.jupyter.widget-view+json": {
       "model_id": "",
       "version_major": 2,
       "version_minor": 0
      },
      "text/plain": [
       "FloatProgress(value=0.0, bar_style='info', description='Progress:', layout=Layout(height='25px', width='50%'),…"
      ]
     },
     "metadata": {},
     "output_type": "display_data"
    }
   ],
   "source": [
    "from pyspark.ml import Pipeline\n",
    "pipeline = Pipeline(stages = stages)\n",
    "pipelineModel = pipeline.fit(df2)"
   ]
  },
  {
   "cell_type": "code",
   "execution_count": 7,
   "id": "dcc7531a-7457-426f-a8cd-a7691110f1de",
   "metadata": {
    "execution": {
     "iopub.execute_input": "2022-12-08T08:12:26.000887Z",
     "iopub.status.busy": "2022-12-08T08:12:26.000687Z",
     "iopub.status.idle": "2022-12-08T08:12:26.920221Z",
     "shell.execute_reply": "2022-12-08T08:12:26.919633Z",
     "shell.execute_reply.started": "2022-12-08T08:12:26.000863Z"
    },
    "tags": []
   },
   "outputs": [
    {
     "data": {
      "application/vnd.jupyter.widget-view+json": {
       "model_id": "21029e6deea94d4fae701d282457a6e8",
       "version_major": 2,
       "version_minor": 0
      },
      "text/plain": [
       "VBox()"
      ]
     },
     "metadata": {},
     "output_type": "display_data"
    },
    {
     "data": {
      "application/vnd.jupyter.widget-view+json": {
       "model_id": "",
       "version_major": 2,
       "version_minor": 0
      },
      "text/plain": [
       "FloatProgress(value=0.0, bar_style='info', description='Progress:', layout=Layout(height='25px', width='50%'),…"
      ]
     },
     "metadata": {},
     "output_type": "display_data"
    },
    {
     "name": "stdout",
     "output_type": "stream",
     "text": [
      "root\n",
      " |-- age: integer (nullable = true)\n",
      " |-- job: string (nullable = true)\n",
      " |-- marital: string (nullable = true)\n",
      " |-- education: string (nullable = true)\n",
      " |-- default: string (nullable = true)\n",
      " |-- housing: string (nullable = true)\n",
      " |-- loan: string (nullable = true)\n",
      " |-- contact: string (nullable = true)\n",
      " |-- day: string (nullable = true)\n",
      " |-- month: string (nullable = true)\n",
      " |-- duration: integer (nullable = true)\n",
      " |-- campaign: integer (nullable = true)\n",
      " |-- pdays: integer (nullable = true)\n",
      " |-- previous: integer (nullable = true)\n",
      " |-- poutcome: string (nullable = true)\n",
      " |-- deposit: string (nullable = true)\n",
      " |-- jobIndex: double (nullable = false)\n",
      " |-- jobclassVec: vector (nullable = true)\n",
      " |-- maritalIndex: double (nullable = false)\n",
      " |-- maritalclassVec: vector (nullable = true)\n",
      " |-- educationIndex: double (nullable = false)\n",
      " |-- educationclassVec: vector (nullable = true)\n",
      " |-- defaultIndex: double (nullable = false)\n",
      " |-- defaultclassVec: vector (nullable = true)\n",
      " |-- housingIndex: double (nullable = false)\n",
      " |-- housingclassVec: vector (nullable = true)\n",
      " |-- loanIndex: double (nullable = false)\n",
      " |-- loanclassVec: vector (nullable = true)\n",
      " |-- contactIndex: double (nullable = false)\n",
      " |-- contactclassVec: vector (nullable = true)\n",
      " |-- poutcomeIndex: double (nullable = false)\n",
      " |-- poutcomeclassVec: vector (nullable = true)\n",
      " |-- label: double (nullable = false)\n",
      " |-- features: vector (nullable = true)"
     ]
    }
   ],
   "source": [
    "df_pip = pipelineModel.transform(df2)\n",
    "df_pip.printSchema()"
   ]
  },
  {
   "cell_type": "code",
   "execution_count": 8,
   "id": "fd94a4c0-a3c5-4c5a-a44a-2690812bae78",
   "metadata": {
    "execution": {
     "iopub.execute_input": "2022-12-08T08:12:26.921956Z",
     "iopub.status.busy": "2022-12-08T08:12:26.921766Z",
     "iopub.status.idle": "2022-12-08T08:12:27.189886Z",
     "shell.execute_reply": "2022-12-08T08:12:27.189157Z",
     "shell.execute_reply.started": "2022-12-08T08:12:26.921933Z"
    },
    "tags": []
   },
   "outputs": [
    {
     "data": {
      "application/vnd.jupyter.widget-view+json": {
       "model_id": "cb5723a854af480097ec72dd29f8d037",
       "version_major": 2,
       "version_minor": 0
      },
      "text/plain": [
       "VBox()"
      ]
     },
     "metadata": {},
     "output_type": "display_data"
    },
    {
     "data": {
      "application/vnd.jupyter.widget-view+json": {
       "model_id": "",
       "version_major": 2,
       "version_minor": 0
      },
      "text/plain": [
       "FloatProgress(value=0.0, bar_style='info', description='Progress:', layout=Layout(height='25px', width='50%'),…"
      ]
     },
     "metadata": {},
     "output_type": "display_data"
    }
   ],
   "source": [
    "(training,test)=df_pip.randomSplit([0.8, 0.2])"
   ]
  },
  {
   "cell_type": "code",
   "execution_count": 9,
   "id": "e97645e8-938c-4ca0-96c9-67b0b63d13b1",
   "metadata": {
    "execution": {
     "iopub.execute_input": "2022-12-08T08:12:27.191259Z",
     "iopub.status.busy": "2022-12-08T08:12:27.191084Z",
     "iopub.status.idle": "2022-12-08T08:12:27.256012Z",
     "shell.execute_reply": "2022-12-08T08:12:27.255430Z",
     "shell.execute_reply.started": "2022-12-08T08:12:27.191237Z"
    },
    "tags": []
   },
   "outputs": [
    {
     "data": {
      "application/vnd.jupyter.widget-view+json": {
       "model_id": "ea83f90becd8425083fe577253d203f0",
       "version_major": 2,
       "version_minor": 0
      },
      "text/plain": [
       "VBox()"
      ]
     },
     "metadata": {},
     "output_type": "display_data"
    },
    {
     "data": {
      "application/vnd.jupyter.widget-view+json": {
       "model_id": "",
       "version_major": 2,
       "version_minor": 0
      },
      "text/plain": [
       "FloatProgress(value=0.0, bar_style='info', description='Progress:', layout=Layout(height='25px', width='50%'),…"
      ]
     },
     "metadata": {},
     "output_type": "display_data"
    }
   ],
   "source": [
    "from pyspark.ml.classification import DecisionTreeClassifier"
   ]
  },
  {
   "cell_type": "code",
   "execution_count": 10,
   "id": "49f3f607-4400-4b1e-bc81-0ed9db8a1706",
   "metadata": {
    "execution": {
     "iopub.execute_input": "2022-12-08T08:12:27.257174Z",
     "iopub.status.busy": "2022-12-08T08:12:27.256988Z",
     "iopub.status.idle": "2022-12-08T08:12:34.657242Z",
     "shell.execute_reply": "2022-12-08T08:12:34.625507Z",
     "shell.execute_reply.started": "2022-12-08T08:12:27.257151Z"
    },
    "tags": []
   },
   "outputs": [
    {
     "data": {
      "application/vnd.jupyter.widget-view+json": {
       "model_id": "8385a985ebed49ca90ca374b2b4ea441",
       "version_major": 2,
       "version_minor": 0
      },
      "text/plain": [
       "VBox()"
      ]
     },
     "metadata": {},
     "output_type": "display_data"
    },
    {
     "data": {
      "application/vnd.jupyter.widget-view+json": {
       "model_id": "",
       "version_major": 2,
       "version_minor": 0
      },
      "text/plain": [
       "FloatProgress(value=0.0, bar_style='info', description='Progress:', layout=Layout(height='25px', width='50%'),…"
      ]
     },
     "metadata": {},
     "output_type": "display_data"
    }
   ],
   "source": [
    "dt = DecisionTreeClassifier(featuresCol = 'features', labelCol = 'label', maxDepth = 3)\n",
    "model_dt = dt.fit(training)\n",
    "pred_dt = model_dt.transform(test)"
   ]
  },
  {
   "cell_type": "code",
   "execution_count": 11,
   "id": "19d6999f-9223-4930-a04c-f836282a5a79",
   "metadata": {
    "execution": {
     "iopub.execute_input": "2022-12-08T08:12:34.671127Z",
     "iopub.status.busy": "2022-12-08T08:12:34.670538Z",
     "iopub.status.idle": "2022-12-08T08:12:36.315023Z",
     "shell.execute_reply": "2022-12-08T08:12:36.314102Z",
     "shell.execute_reply.started": "2022-12-08T08:12:34.671098Z"
    },
    "tags": []
   },
   "outputs": [
    {
     "data": {
      "application/vnd.jupyter.widget-view+json": {
       "model_id": "cce8b58a5716426b91df0648c19e800f",
       "version_major": 2,
       "version_minor": 0
      },
      "text/plain": [
       "VBox()"
      ]
     },
     "metadata": {},
     "output_type": "display_data"
    },
    {
     "data": {
      "application/vnd.jupyter.widget-view+json": {
       "model_id": "",
       "version_major": 2,
       "version_minor": 0
      },
      "text/plain": [
       "FloatProgress(value=0.0, bar_style='info', description='Progress:', layout=Layout(height='25px', width='50%'),…"
      ]
     },
     "metadata": {},
     "output_type": "display_data"
    },
    {
     "name": "stdout",
     "output_type": "stream",
     "text": [
      "0.4916988552946748"
     ]
    }
   ],
   "source": [
    "from pyspark.ml.evaluation import RegressionEvaluator\n",
    "evaluator = RegressionEvaluator()\n",
    "rmse_dt = evaluator.evaluate(pred_dt,{evaluator.metricName: \"rmse\"})\n",
    "rmse_dt"
   ]
  },
  {
   "cell_type": "code",
   "execution_count": 12,
   "id": "605ec8af-2e67-4415-a9d6-5938f558ba26",
   "metadata": {
    "execution": {
     "iopub.execute_input": "2022-12-08T08:12:36.316567Z",
     "iopub.status.busy": "2022-12-08T08:12:36.316308Z",
     "iopub.status.idle": "2022-12-08T08:13:20.807595Z",
     "shell.execute_reply": "2022-12-08T08:13:20.792852Z",
     "shell.execute_reply.started": "2022-12-08T08:12:36.316532Z"
    },
    "tags": []
   },
   "outputs": [
    {
     "data": {
      "application/vnd.jupyter.widget-view+json": {
       "model_id": "e6bf0121a5764092bb1fe187820d3979",
       "version_major": 2,
       "version_minor": 0
      },
      "text/plain": [
       "VBox()"
      ]
     },
     "metadata": {},
     "output_type": "display_data"
    },
    {
     "data": {
      "application/vnd.jupyter.widget-view+json": {
       "model_id": "",
       "version_major": 2,
       "version_minor": 0
      },
      "text/plain": [
       "FloatProgress(value=0.0, bar_style='info', description='Progress:', layout=Layout(height='25px', width='50%'),…"
      ]
     },
     "metadata": {},
     "output_type": "display_data"
    }
   ],
   "source": [
    "from pyspark.ml.tuning import CrossValidator, ParamGridBuilder\n",
    "param_grid_dt = ParamGridBuilder()\\\n",
    "            .addGrid(dt.maxDepth, [1,2,3,4,5])\\\n",
    "            .build()\n",
    "crossvalidate = CrossValidator(estimator=dt,estimatorParamMaps=param_grid_dt, evaluator=evaluator,numFolds=5)\n",
    "tuned_model_dt = crossvalidate.fit(training)"
   ]
  },
  {
   "cell_type": "code",
   "execution_count": 13,
   "id": "c054f46a-a053-41f2-94dd-eca54a4cf17d",
   "metadata": {
    "execution": {
     "iopub.execute_input": "2022-12-08T08:13:20.821227Z",
     "iopub.status.busy": "2022-12-08T08:13:20.816608Z",
     "iopub.status.idle": "2022-12-08T08:13:20.943014Z",
     "shell.execute_reply": "2022-12-08T08:13:20.941787Z",
     "shell.execute_reply.started": "2022-12-08T08:13:20.821198Z"
    },
    "tags": []
   },
   "outputs": [
    {
     "data": {
      "application/vnd.jupyter.widget-view+json": {
       "model_id": "6137d3e359f84de39dfe14ec662c7f92",
       "version_major": 2,
       "version_minor": 0
      },
      "text/plain": [
       "VBox()"
      ]
     },
     "metadata": {},
     "output_type": "display_data"
    },
    {
     "data": {
      "application/vnd.jupyter.widget-view+json": {
       "model_id": "",
       "version_major": 2,
       "version_minor": 0
      },
      "text/plain": [
       "FloatProgress(value=0.0, bar_style='info', description='Progress:', layout=Layout(height='25px', width='50%'),…"
      ]
     },
     "metadata": {},
     "output_type": "display_data"
    }
   ],
   "source": [
    "model_dt_best = tuned_model_dt.bestModel"
   ]
  },
  {
   "cell_type": "code",
   "execution_count": 14,
   "id": "aa761d53-20d0-49ab-86d0-aef1908bb34e",
   "metadata": {
    "execution": {
     "iopub.execute_input": "2022-12-08T08:13:20.944084Z",
     "iopub.status.busy": "2022-12-08T08:13:20.943914Z",
     "iopub.status.idle": "2022-12-08T08:13:22.341354Z",
     "shell.execute_reply": "2022-12-08T08:13:22.340719Z",
     "shell.execute_reply.started": "2022-12-08T08:13:20.944062Z"
    },
    "tags": []
   },
   "outputs": [
    {
     "data": {
      "application/vnd.jupyter.widget-view+json": {
       "model_id": "2692a5e92d5543ac9ab637957721910f",
       "version_major": 2,
       "version_minor": 0
      },
      "text/plain": [
       "VBox()"
      ]
     },
     "metadata": {},
     "output_type": "display_data"
    },
    {
     "data": {
      "application/vnd.jupyter.widget-view+json": {
       "model_id": "",
       "version_major": 2,
       "version_minor": 0
      },
      "text/plain": [
       "FloatProgress(value=0.0, bar_style='info', description='Progress:', layout=Layout(height='25px', width='50%'),…"
      ]
     },
     "metadata": {},
     "output_type": "display_data"
    },
    {
     "name": "stdout",
     "output_type": "stream",
     "text": [
      "0.45793599183399464"
     ]
    }
   ],
   "source": [
    "from pyspark.ml.evaluation import BinaryClassificationEvaluator\n",
    "pred_dt_best = model_dt_best.transform(test)\n",
    "pred_dt_best\n",
    "rmse_dt = evaluator.evaluate(pred_dt_best,{evaluator.metricName: \"rmse\"})\n",
    "rmse_dt"
   ]
  },
  {
   "cell_type": "code",
   "execution_count": 15,
   "id": "7e61bc82-97f2-41fe-abb7-b4fe4cd89aab",
   "metadata": {
    "execution": {
     "iopub.execute_input": "2022-12-08T08:13:22.342547Z",
     "iopub.status.busy": "2022-12-08T08:13:22.342308Z",
     "iopub.status.idle": "2022-12-08T08:13:24.874376Z",
     "shell.execute_reply": "2022-12-08T08:13:24.865415Z",
     "shell.execute_reply.started": "2022-12-08T08:13:22.342513Z"
    },
    "tags": []
   },
   "outputs": [
    {
     "data": {
      "application/vnd.jupyter.widget-view+json": {
       "model_id": "5e5177314d344e85b46284344ea2da02",
       "version_major": 2,
       "version_minor": 0
      },
      "text/plain": [
       "VBox()"
      ]
     },
     "metadata": {},
     "output_type": "display_data"
    },
    {
     "data": {
      "application/vnd.jupyter.widget-view+json": {
       "model_id": "",
       "version_major": 2,
       "version_minor": 0
      },
      "text/plain": [
       "FloatProgress(value=0.0, bar_style='info', description='Progress:', layout=Layout(height='25px', width='50%'),…"
      ]
     },
     "metadata": {},
     "output_type": "display_data"
    },
    {
     "name": "stdout",
     "output_type": "stream",
     "text": [
      "0.6980700526239559"
     ]
    }
   ],
   "source": [
    "roc_evaluator = BinaryClassificationEvaluator()\n",
    "dtROC = roc_evaluator.evaluate(pred_dt_best, {roc_evaluator.metricName: \"areaUnderROC\"})\n",
    "dtROC"
   ]
  },
  {
   "cell_type": "code",
   "execution_count": 16,
   "id": "1d980c26-5790-4c93-a05c-127644e92058",
   "metadata": {
    "execution": {
     "iopub.execute_input": "2022-12-08T08:13:24.876931Z",
     "iopub.status.busy": "2022-12-08T08:13:24.875447Z",
     "iopub.status.idle": "2022-12-08T08:13:26.336544Z",
     "shell.execute_reply": "2022-12-08T08:13:26.335850Z",
     "shell.execute_reply.started": "2022-12-08T08:13:24.876887Z"
    },
    "tags": []
   },
   "outputs": [
    {
     "data": {
      "application/vnd.jupyter.widget-view+json": {
       "model_id": "f2a540b9511146ac9ad42869452abcce",
       "version_major": 2,
       "version_minor": 0
      },
      "text/plain": [
       "VBox()"
      ]
     },
     "metadata": {},
     "output_type": "display_data"
    },
    {
     "data": {
      "application/vnd.jupyter.widget-view+json": {
       "model_id": "",
       "version_major": 2,
       "version_minor": 0
      },
      "text/plain": [
       "FloatProgress(value=0.0, bar_style='info', description='Progress:', layout=Layout(height='25px', width='50%'),…"
      ]
     },
     "metadata": {},
     "output_type": "display_data"
    },
    {
     "name": "stdout",
     "output_type": "stream",
     "text": [
      "0.7121474522922859"
     ]
    }
   ],
   "source": [
    "dtPR = roc_evaluator.evaluate(pred_dt_best, {roc_evaluator.metricName: \"areaUnderPR\"})\n",
    "dtPR"
   ]
  },
  {
   "cell_type": "code",
   "execution_count": 17,
   "id": "b2a9e164-d674-40e5-8bff-9f714a43f881",
   "metadata": {
    "execution": {
     "iopub.execute_input": "2022-12-08T08:13:26.343072Z",
     "iopub.status.busy": "2022-12-08T08:13:26.342816Z",
     "iopub.status.idle": "2022-12-08T08:13:26.662189Z",
     "shell.execute_reply": "2022-12-08T08:13:26.661398Z",
     "shell.execute_reply.started": "2022-12-08T08:13:26.343035Z"
    },
    "tags": []
   },
   "outputs": [
    {
     "data": {
      "application/vnd.jupyter.widget-view+json": {
       "model_id": "486e7deae5f540a0b127fc0cb8a9afba",
       "version_major": 2,
       "version_minor": 0
      },
      "text/plain": [
       "VBox()"
      ]
     },
     "metadata": {},
     "output_type": "display_data"
    },
    {
     "data": {
      "application/vnd.jupyter.widget-view+json": {
       "model_id": "",
       "version_major": 2,
       "version_minor": 0
      },
      "text/plain": [
       "FloatProgress(value=0.0, bar_style='info', description='Progress:', layout=Layout(height='25px', width='50%'),…"
      ]
     },
     "metadata": {},
     "output_type": "display_data"
    }
   ],
   "source": [
    "from pyspark.ml.classification import GBTClassifier"
   ]
  },
  {
   "cell_type": "code",
   "execution_count": 18,
   "id": "65b9fab5-3b0b-42da-8852-4fdb852d049d",
   "metadata": {
    "execution": {
     "iopub.execute_input": "2022-12-08T08:13:26.665455Z",
     "iopub.status.busy": "2022-12-08T08:13:26.665178Z",
     "iopub.status.idle": "2022-12-08T08:13:32.300963Z",
     "shell.execute_reply": "2022-12-08T08:13:32.261599Z",
     "shell.execute_reply.started": "2022-12-08T08:13:26.665415Z"
    },
    "tags": []
   },
   "outputs": [
    {
     "data": {
      "application/vnd.jupyter.widget-view+json": {
       "model_id": "80cec0f8d30f4a40b7925fe9073089f9",
       "version_major": 2,
       "version_minor": 0
      },
      "text/plain": [
       "VBox()"
      ]
     },
     "metadata": {},
     "output_type": "display_data"
    },
    {
     "data": {
      "application/vnd.jupyter.widget-view+json": {
       "model_id": "",
       "version_major": 2,
       "version_minor": 0
      },
      "text/plain": [
       "FloatProgress(value=0.0, bar_style='info', description='Progress:', layout=Layout(height='25px', width='50%'),…"
      ]
     },
     "metadata": {},
     "output_type": "display_data"
    }
   ],
   "source": [
    "gbt = GBTClassifier(maxIter=5, maxDepth=2)\n",
    "model_gbt = gbt.fit(training)\n",
    "pred_gbt = model_gbt.transform(test)"
   ]
  },
  {
   "cell_type": "code",
   "execution_count": 19,
   "id": "8e1af7a2-7846-4999-ad50-fe35f53e7abd",
   "metadata": {
    "execution": {
     "iopub.execute_input": "2022-12-08T08:13:32.302340Z",
     "iopub.status.busy": "2022-12-08T08:13:32.302088Z",
     "iopub.status.idle": "2022-12-08T08:13:33.407078Z",
     "shell.execute_reply": "2022-12-08T08:13:33.406178Z",
     "shell.execute_reply.started": "2022-12-08T08:13:32.302305Z"
    },
    "tags": []
   },
   "outputs": [
    {
     "data": {
      "application/vnd.jupyter.widget-view+json": {
       "model_id": "799655f9c0f64d79ab2102725c6752ea",
       "version_major": 2,
       "version_minor": 0
      },
      "text/plain": [
       "VBox()"
      ]
     },
     "metadata": {},
     "output_type": "display_data"
    },
    {
     "data": {
      "application/vnd.jupyter.widget-view+json": {
       "model_id": "",
       "version_major": 2,
       "version_minor": 0
      },
      "text/plain": [
       "FloatProgress(value=0.0, bar_style='info', description='Progress:', layout=Layout(height='25px', width='50%'),…"
      ]
     },
     "metadata": {},
     "output_type": "display_data"
    },
    {
     "name": "stdout",
     "output_type": "stream",
     "text": [
      "0.4925792478623212"
     ]
    }
   ],
   "source": [
    "rmse_gbt = evaluator.evaluate(pred_gbt,{evaluator.metricName: \"rmse\"})\n",
    "rmse_gbt"
   ]
  },
  {
   "cell_type": "code",
   "execution_count": 20,
   "id": "92cb0c46-4aae-41cd-8a6c-42814c721a42",
   "metadata": {
    "execution": {
     "iopub.execute_input": "2022-12-08T08:13:33.408329Z",
     "iopub.status.busy": "2022-12-08T08:13:33.408082Z",
     "iopub.status.idle": "2022-12-08T08:16:50.692099Z",
     "shell.execute_reply": "2022-12-08T08:16:50.691369Z",
     "shell.execute_reply.started": "2022-12-08T08:13:33.408286Z"
    },
    "tags": []
   },
   "outputs": [
    {
     "data": {
      "application/vnd.jupyter.widget-view+json": {
       "model_id": "53418ee72ebc41b999593d15864e950e",
       "version_major": 2,
       "version_minor": 0
      },
      "text/plain": [
       "VBox()"
      ]
     },
     "metadata": {},
     "output_type": "display_data"
    },
    {
     "data": {
      "application/vnd.jupyter.widget-view+json": {
       "model_id": "",
       "version_major": 2,
       "version_minor": 0
      },
      "text/plain": [
       "FloatProgress(value=0.0, bar_style='info', description='Progress:', layout=Layout(height='25px', width='50%'),…"
      ]
     },
     "metadata": {},
     "output_type": "display_data"
    },
    {
     "name": "stderr",
     "output_type": "stream",
     "text": [
      "Exception in thread cell_monitor-20:\n",
      "Traceback (most recent call last):\n",
      "  File \"/mnt/notebook-env/lib/python3.7/threading.py\", line 926, in _bootstrap_inner\n",
      "    self.run()\n",
      "  File \"/mnt/notebook-env/lib/python3.7/threading.py\", line 870, in run\n",
      "    self._target(*self._args, **self._kwargs)\n",
      "  File \"/mnt/notebook-env/lib/python3.7/site-packages/awseditorssparkmonitoringwidget-1.0-py3.7.egg/awseditorssparkmonitoringwidget/cellmonitor.py\", line 178, in cell_monitor\n",
      "    job_binned_stages[job_id][stage_id] = all_stages[stage_id]\n",
      "KeyError: 3499\n",
      "\n"
     ]
    }
   ],
   "source": [
    "param_grid_gbt = ParamGridBuilder()\\\n",
    "            .addGrid(gbt.maxIter, [1,2,3,4,5])\\\n",
    "            .addGrid(gbt.maxDepth, [1,2,3,4,5])\\\n",
    "            .build()\n",
    "crossvalidate = CrossValidator(estimator=gbt,estimatorParamMaps=param_grid_gbt, evaluator=evaluator,numFolds=5)\n",
    "tuned_model_gbt = crossvalidate.fit(training)"
   ]
  },
  {
   "cell_type": "code",
   "execution_count": 21,
   "id": "7b50e43a-2b90-4973-aab3-ff4816a17d5c",
   "metadata": {
    "execution": {
     "iopub.execute_input": "2022-12-08T08:16:50.693225Z",
     "iopub.status.busy": "2022-12-08T08:16:50.693028Z",
     "iopub.status.idle": "2022-12-08T08:16:51.464622Z",
     "shell.execute_reply": "2022-12-08T08:16:51.463749Z",
     "shell.execute_reply.started": "2022-12-08T08:16:50.693202Z"
    },
    "tags": []
   },
   "outputs": [
    {
     "data": {
      "application/vnd.jupyter.widget-view+json": {
       "model_id": "8fe1ac23e1434dedad7095b2a7d36236",
       "version_major": 2,
       "version_minor": 0
      },
      "text/plain": [
       "VBox()"
      ]
     },
     "metadata": {},
     "output_type": "display_data"
    },
    {
     "data": {
      "application/vnd.jupyter.widget-view+json": {
       "model_id": "",
       "version_major": 2,
       "version_minor": 0
      },
      "text/plain": [
       "FloatProgress(value=0.0, bar_style='info', description='Progress:', layout=Layout(height='25px', width='50%'),…"
      ]
     },
     "metadata": {},
     "output_type": "display_data"
    },
    {
     "name": "stdout",
     "output_type": "stream",
     "text": [
      "0.45222346893752163"
     ]
    }
   ],
   "source": [
    "model_gbt_best = tuned_model_gbt.bestModel\n",
    "pred_gbt_best = model_gbt_best.transform(test)\n",
    "rmse_gbt = evaluator.evaluate(pred_gbt_best,{evaluator.metricName: \"rmse\"})\n",
    "rmse_gbt"
   ]
  },
  {
   "cell_type": "code",
   "execution_count": 22,
   "id": "8c3c744c-5bca-4f7a-a610-a52c236e5afd",
   "metadata": {
    "execution": {
     "iopub.execute_input": "2022-12-08T08:16:51.466102Z",
     "iopub.status.busy": "2022-12-08T08:16:51.465872Z",
     "iopub.status.idle": "2022-12-08T08:16:52.243981Z",
     "shell.execute_reply": "2022-12-08T08:16:52.243388Z",
     "shell.execute_reply.started": "2022-12-08T08:16:51.466071Z"
    },
    "tags": []
   },
   "outputs": [
    {
     "data": {
      "application/vnd.jupyter.widget-view+json": {
       "model_id": "edde7d6502194acfadd4709323853f7d",
       "version_major": 2,
       "version_minor": 0
      },
      "text/plain": [
       "VBox()"
      ]
     },
     "metadata": {},
     "output_type": "display_data"
    },
    {
     "data": {
      "application/vnd.jupyter.widget-view+json": {
       "model_id": "",
       "version_major": 2,
       "version_minor": 0
      },
      "text/plain": [
       "FloatProgress(value=0.0, bar_style='info', description='Progress:', layout=Layout(height='25px', width='50%'),…"
      ]
     },
     "metadata": {},
     "output_type": "display_data"
    },
    {
     "name": "stdout",
     "output_type": "stream",
     "text": [
      "0.8742558266547577"
     ]
    }
   ],
   "source": [
    "gbtROC = roc_evaluator.evaluate(pred_gbt_best, {roc_evaluator.metricName: \"areaUnderROC\"})\n",
    "gbtROC"
   ]
  },
  {
   "cell_type": "code",
   "execution_count": 23,
   "id": "43fedffa-3c00-4c68-81b8-834a682972ed",
   "metadata": {
    "execution": {
     "iopub.execute_input": "2022-12-08T08:16:52.246352Z",
     "iopub.status.busy": "2022-12-08T08:16:52.246179Z",
     "iopub.status.idle": "2022-12-08T08:16:53.021171Z",
     "shell.execute_reply": "2022-12-08T08:16:53.020337Z",
     "shell.execute_reply.started": "2022-12-08T08:16:52.246330Z"
    },
    "tags": []
   },
   "outputs": [
    {
     "data": {
      "application/vnd.jupyter.widget-view+json": {
       "model_id": "fb8ce6c8b82348aa8ce78cab2a1126e7",
       "version_major": 2,
       "version_minor": 0
      },
      "text/plain": [
       "VBox()"
      ]
     },
     "metadata": {},
     "output_type": "display_data"
    },
    {
     "data": {
      "application/vnd.jupyter.widget-view+json": {
       "model_id": "",
       "version_major": 2,
       "version_minor": 0
      },
      "text/plain": [
       "FloatProgress(value=0.0, bar_style='info', description='Progress:', layout=Layout(height='25px', width='50%'),…"
      ]
     },
     "metadata": {},
     "output_type": "display_data"
    },
    {
     "name": "stdout",
     "output_type": "stream",
     "text": [
      "0.8293456012152072"
     ]
    }
   ],
   "source": [
    "gbtPR = roc_evaluator.evaluate(pred_gbt_best, {roc_evaluator.metricName: \"areaUnderPR\"})\n",
    "gbtPR"
   ]
  },
  {
   "cell_type": "code",
   "execution_count": 24,
   "id": "aa895dab-3a72-4639-a334-3847f9182cab",
   "metadata": {
    "execution": {
     "iopub.execute_input": "2022-12-08T08:16:53.022826Z",
     "iopub.status.busy": "2022-12-08T08:16:53.022654Z",
     "iopub.status.idle": "2022-12-08T08:16:53.356762Z",
     "shell.execute_reply": "2022-12-08T08:16:53.355973Z",
     "shell.execute_reply.started": "2022-12-08T08:16:53.022804Z"
    },
    "tags": []
   },
   "outputs": [
    {
     "data": {
      "application/vnd.jupyter.widget-view+json": {
       "model_id": "73d616769a4b4ced9a3cba70f979af29",
       "version_major": 2,
       "version_minor": 0
      },
      "text/plain": [
       "VBox()"
      ]
     },
     "metadata": {},
     "output_type": "display_data"
    },
    {
     "data": {
      "application/vnd.jupyter.widget-view+json": {
       "model_id": "",
       "version_major": 2,
       "version_minor": 0
      },
      "text/plain": [
       "FloatProgress(value=0.0, bar_style='info', description='Progress:', layout=Layout(height='25px', width='50%'),…"
      ]
     },
     "metadata": {},
     "output_type": "display_data"
    }
   ],
   "source": [
    "## Change the dataset size\n",
    "(training2,test2)=df_pip.randomSplit([0.6, 0.3])"
   ]
  },
  {
   "cell_type": "code",
   "execution_count": 25,
   "id": "60a62acf-d45f-4823-8621-2b369149d0cd",
   "metadata": {
    "execution": {
     "iopub.execute_input": "2022-12-08T08:16:53.357983Z",
     "iopub.status.busy": "2022-12-08T08:16:53.357747Z",
     "iopub.status.idle": "2022-12-08T08:16:58.191678Z",
     "shell.execute_reply": "2022-12-08T08:16:58.190826Z",
     "shell.execute_reply.started": "2022-12-08T08:16:53.357950Z"
    },
    "tags": []
   },
   "outputs": [
    {
     "data": {
      "application/vnd.jupyter.widget-view+json": {
       "model_id": "ad483bbb01b64ceda01c00ec5f2a52bb",
       "version_major": 2,
       "version_minor": 0
      },
      "text/plain": [
       "VBox()"
      ]
     },
     "metadata": {},
     "output_type": "display_data"
    },
    {
     "data": {
      "application/vnd.jupyter.widget-view+json": {
       "model_id": "",
       "version_major": 2,
       "version_minor": 0
      },
      "text/plain": [
       "FloatProgress(value=0.0, bar_style='info', description='Progress:', layout=Layout(height='25px', width='50%'),…"
      ]
     },
     "metadata": {},
     "output_type": "display_data"
    },
    {
     "name": "stdout",
     "output_type": "stream",
     "text": [
      "0.4774066621308212"
     ]
    }
   ],
   "source": [
    "dt = DecisionTreeClassifier(featuresCol = 'features', labelCol = 'label', maxDepth = 3)\n",
    "model_dt = dt.fit(training2)\n",
    "pred_dt = model_dt.transform(test2)\n",
    "rmse_dt = evaluator.evaluate(pred_dt,{evaluator.metricName: \"rmse\"})\n",
    "rmse_dt"
   ]
  },
  {
   "cell_type": "code",
   "execution_count": 26,
   "id": "03da23fd-4791-4403-9736-f45f3aeedb04",
   "metadata": {
    "execution": {
     "iopub.execute_input": "2022-12-08T08:16:58.193169Z",
     "iopub.status.busy": "2022-12-08T08:16:58.192907Z",
     "iopub.status.idle": "2022-12-08T08:16:58.987469Z",
     "shell.execute_reply": "2022-12-08T08:16:58.986745Z",
     "shell.execute_reply.started": "2022-12-08T08:16:58.193133Z"
    },
    "tags": []
   },
   "outputs": [
    {
     "data": {
      "application/vnd.jupyter.widget-view+json": {
       "model_id": "4d45a030cb0e491f8f8b3d675d59b1e2",
       "version_major": 2,
       "version_minor": 0
      },
      "text/plain": [
       "VBox()"
      ]
     },
     "metadata": {},
     "output_type": "display_data"
    },
    {
     "data": {
      "application/vnd.jupyter.widget-view+json": {
       "model_id": "",
       "version_major": 2,
       "version_minor": 0
      },
      "text/plain": [
       "FloatProgress(value=0.0, bar_style='info', description='Progress:', layout=Layout(height='25px', width='50%'),…"
      ]
     },
     "metadata": {},
     "output_type": "display_data"
    },
    {
     "name": "stdout",
     "output_type": "stream",
     "text": [
      "0.7456246522397258"
     ]
    }
   ],
   "source": [
    "dtROC = roc_evaluator.evaluate(pred_dt, {roc_evaluator.metricName: \"areaUnderROC\"})\n",
    "dtROC"
   ]
  },
  {
   "cell_type": "code",
   "execution_count": 27,
   "id": "cf801a93-2743-413e-85c5-0e593667a501",
   "metadata": {
    "execution": {
     "iopub.execute_input": "2022-12-08T08:16:58.988900Z",
     "iopub.status.busy": "2022-12-08T08:16:58.988635Z",
     "iopub.status.idle": "2022-12-08T08:16:59.793548Z",
     "shell.execute_reply": "2022-12-08T08:16:59.792761Z",
     "shell.execute_reply.started": "2022-12-08T08:16:58.988863Z"
    },
    "tags": []
   },
   "outputs": [
    {
     "data": {
      "application/vnd.jupyter.widget-view+json": {
       "model_id": "5d7852906224480884af5a9c07859bbe",
       "version_major": 2,
       "version_minor": 0
      },
      "text/plain": [
       "VBox()"
      ]
     },
     "metadata": {},
     "output_type": "display_data"
    },
    {
     "data": {
      "application/vnd.jupyter.widget-view+json": {
       "model_id": "",
       "version_major": 2,
       "version_minor": 0
      },
      "text/plain": [
       "FloatProgress(value=0.0, bar_style='info', description='Progress:', layout=Layout(height='25px', width='50%'),…"
      ]
     },
     "metadata": {},
     "output_type": "display_data"
    },
    {
     "name": "stdout",
     "output_type": "stream",
     "text": [
      "0.720101045857142"
     ]
    }
   ],
   "source": [
    "dtPR = roc_evaluator.evaluate(pred_dt, {roc_evaluator.metricName: \"areaUnderPR\"})\n",
    "dtPR"
   ]
  },
  {
   "cell_type": "code",
   "execution_count": 28,
   "id": "0f157abf-4eee-4a0e-a37a-07a10e38c8a3",
   "metadata": {
    "execution": {
     "iopub.execute_input": "2022-12-08T08:16:59.794969Z",
     "iopub.status.busy": "2022-12-08T08:16:59.794728Z",
     "iopub.status.idle": "2022-12-08T08:17:06.226241Z",
     "shell.execute_reply": "2022-12-08T08:17:06.135643Z",
     "shell.execute_reply.started": "2022-12-08T08:16:59.794938Z"
    },
    "tags": []
   },
   "outputs": [
    {
     "data": {
      "application/vnd.jupyter.widget-view+json": {
       "model_id": "95aeab955a414b16b8617377c622114f",
       "version_major": 2,
       "version_minor": 0
      },
      "text/plain": [
       "VBox()"
      ]
     },
     "metadata": {},
     "output_type": "display_data"
    },
    {
     "data": {
      "application/vnd.jupyter.widget-view+json": {
       "model_id": "",
       "version_major": 2,
       "version_minor": 0
      },
      "text/plain": [
       "FloatProgress(value=0.0, bar_style='info', description='Progress:', layout=Layout(height='25px', width='50%'),…"
      ]
     },
     "metadata": {},
     "output_type": "display_data"
    },
    {
     "name": "stderr",
     "output_type": "stream",
     "text": [
      "Exception in thread cell_monitor-26:\n",
      "Traceback (most recent call last):\n",
      "  File \"/mnt/notebook-env/lib/python3.7/threading.py\", line 926, in _bootstrap_inner\n",
      "    self.run()\n",
      "  File \"/mnt/notebook-env/lib/python3.7/threading.py\", line 870, in run\n",
      "    self._target(*self._args, **self._kwargs)\n",
      "  File \"/mnt/notebook-env/lib/python3.7/site-packages/awseditorssparkmonitoringwidget-1.0-py3.7.egg/awseditorssparkmonitoringwidget/cellmonitor.py\", line 178, in cell_monitor\n",
      "    job_binned_stages[job_id][stage_id] = all_stages[stage_id]\n",
      "KeyError: 4493\n",
      "\n"
     ]
    },
    {
     "name": "stdout",
     "output_type": "stream",
     "text": [
      "0.4779773815959696"
     ]
    }
   ],
   "source": [
    "model_gbt = gbt.fit(training2)\n",
    "pred_gbt = model_gbt.transform(test2)\n",
    "rmse_gbt = evaluator.evaluate(pred_gbt,{evaluator.metricName: \"rmse\"})\n",
    "rmse_gbt"
   ]
  },
  {
   "cell_type": "code",
   "execution_count": 29,
   "id": "79e2e6a3-e0cd-41bb-8c0e-d4f6dd4ed8da",
   "metadata": {
    "execution": {
     "iopub.execute_input": "2022-12-08T08:17:06.252320Z",
     "iopub.status.busy": "2022-12-08T08:17:06.249397Z",
     "iopub.status.idle": "2022-12-08T08:17:08.463125Z",
     "shell.execute_reply": "2022-12-08T08:17:08.462382Z",
     "shell.execute_reply.started": "2022-12-08T08:17:06.252276Z"
    }
   },
   "outputs": [
    {
     "data": {
      "application/vnd.jupyter.widget-view+json": {
       "model_id": "38fcace79d3f43518b110c04aff0cd49",
       "version_major": 2,
       "version_minor": 0
      },
      "text/plain": [
       "VBox()"
      ]
     },
     "metadata": {},
     "output_type": "display_data"
    },
    {
     "data": {
      "application/vnd.jupyter.widget-view+json": {
       "model_id": "",
       "version_major": 2,
       "version_minor": 0
      },
      "text/plain": [
       "FloatProgress(value=0.0, bar_style='info', description='Progress:', layout=Layout(height='25px', width='50%'),…"
      ]
     },
     "metadata": {},
     "output_type": "display_data"
    },
    {
     "name": "stdout",
     "output_type": "stream",
     "text": [
      "0.8293456012152072"
     ]
    }
   ],
   "source": [
    "gbtPR = roc_evaluator.evaluate(pred_gbt_best, {roc_evaluator.metricName: \"areaUnderPR\"})\n",
    "gbtPR"
   ]
  },
  {
   "cell_type": "code",
   "execution_count": 30,
   "id": "7c033bc3-f72f-4d68-83e7-86b7c62bbfc8",
   "metadata": {
    "execution": {
     "iopub.execute_input": "2022-12-08T08:17:08.464278Z",
     "iopub.status.busy": "2022-12-08T08:17:08.464090Z",
     "iopub.status.idle": "2022-12-08T08:17:09.250801Z",
     "shell.execute_reply": "2022-12-08T08:17:09.250068Z",
     "shell.execute_reply.started": "2022-12-08T08:17:08.464256Z"
    }
   },
   "outputs": [
    {
     "data": {
      "application/vnd.jupyter.widget-view+json": {
       "model_id": "a86535256a0f4769adb0ba4bb561eb6b",
       "version_major": 2,
       "version_minor": 0
      },
      "text/plain": [
       "VBox()"
      ]
     },
     "metadata": {},
     "output_type": "display_data"
    },
    {
     "data": {
      "application/vnd.jupyter.widget-view+json": {
       "model_id": "",
       "version_major": 2,
       "version_minor": 0
      },
      "text/plain": [
       "FloatProgress(value=0.0, bar_style='info', description='Progress:', layout=Layout(height='25px', width='50%'),…"
      ]
     },
     "metadata": {},
     "output_type": "display_data"
    },
    {
     "name": "stdout",
     "output_type": "stream",
     "text": [
      "0.8293456012152072"
     ]
    }
   ],
   "source": [
    "gbtPR = roc_evaluator.evaluate(pred_gbt_best, {roc_evaluator.metricName: \"areaUnderPR\"})\n",
    "gbtPR"
   ]
  },
  {
   "cell_type": "code",
   "execution_count": 40,
   "id": "5543e32f-abda-4a3b-9bf7-0b71890e679d",
   "metadata": {
    "execution": {
     "iopub.execute_input": "2022-12-08T08:56:02.580908Z",
     "iopub.status.busy": "2022-12-08T08:56:02.580684Z",
     "iopub.status.idle": "2022-12-08T08:56:02.652531Z",
     "shell.execute_reply": "2022-12-08T08:56:02.652009Z",
     "shell.execute_reply.started": "2022-12-08T08:56:02.580885Z"
    },
    "tags": []
   },
   "outputs": [
    {
     "data": {
      "application/vnd.jupyter.widget-view+json": {
       "model_id": "e390df4fb8734e18acbece0dd11a57dd",
       "version_major": 2,
       "version_minor": 0
      },
      "text/plain": [
       "VBox()"
      ]
     },
     "metadata": {},
     "output_type": "display_data"
    },
    {
     "data": {
      "application/vnd.jupyter.widget-view+json": {
       "model_id": "",
       "version_major": 2,
       "version_minor": 0
      },
      "text/plain": [
       "FloatProgress(value=0.0, bar_style='info', description='Progress:', layout=Layout(height='25px', width='50%'),…"
      ]
     },
     "metadata": {},
     "output_type": "display_data"
    }
   ],
   "source": [
    "##compare the run time\n",
    "import time\n",
    "start= time.time"
   ]
  },
  {
   "cell_type": "code",
   "execution_count": 32,
   "id": "affb27a5-8cd6-4270-b2d1-cdf60dde5f2e",
   "metadata": {
    "execution": {
     "iopub.execute_input": "2022-12-08T08:17:09.311455Z",
     "iopub.status.busy": "2022-12-08T08:17:09.311014Z",
     "iopub.status.idle": "2022-12-08T08:17:09.394933Z",
     "shell.execute_reply": "2022-12-08T08:17:09.394345Z",
     "shell.execute_reply.started": "2022-12-08T08:17:09.311200Z"
    }
   },
   "outputs": [
    {
     "data": {
      "application/vnd.jupyter.widget-view+json": {
       "model_id": "89dcaf317d9f48f093b4cd2aeb329857",
       "version_major": 2,
       "version_minor": 0
      },
      "text/plain": [
       "VBox()"
      ]
     },
     "metadata": {},
     "output_type": "display_data"
    },
    {
     "data": {
      "application/vnd.jupyter.widget-view+json": {
       "model_id": "",
       "version_major": 2,
       "version_minor": 0
      },
      "text/plain": [
       "FloatProgress(value=0.0, bar_style='info', description='Progress:', layout=Layout(height='25px', width='50%'),…"
      ]
     },
     "metadata": {},
     "output_type": "display_data"
    }
   ],
   "source": [
    "(training,test)=df_pip.randomSplit([0.8, 0.2])"
   ]
  },
  {
   "cell_type": "code",
   "execution_count": 33,
   "id": "e5f55d6e-5858-49e1-a487-a25c4ae00d43",
   "metadata": {
    "execution": {
     "iopub.execute_input": "2022-12-08T08:17:09.395958Z",
     "iopub.status.busy": "2022-12-08T08:17:09.395779Z",
     "iopub.status.idle": "2022-12-08T08:17:14.824892Z",
     "shell.execute_reply": "2022-12-08T08:17:14.802725Z",
     "shell.execute_reply.started": "2022-12-08T08:17:09.395936Z"
    },
    "tags": []
   },
   "outputs": [
    {
     "data": {
      "application/vnd.jupyter.widget-view+json": {
       "model_id": "b9578cc1dd9d4a8aa092302c0a244f96",
       "version_major": 2,
       "version_minor": 0
      },
      "text/plain": [
       "VBox()"
      ]
     },
     "metadata": {},
     "output_type": "display_data"
    },
    {
     "data": {
      "application/vnd.jupyter.widget-view+json": {
       "model_id": "",
       "version_major": 2,
       "version_minor": 0
      },
      "text/plain": [
       "FloatProgress(value=0.0, bar_style='info', description='Progress:', layout=Layout(height='25px', width='50%'),…"
      ]
     },
     "metadata": {},
     "output_type": "display_data"
    }
   ],
   "source": [
    "dt = DecisionTreeClassifier(featuresCol = 'features', labelCol = 'label', maxDepth = 3)\n",
    "model_dt = dt.fit(training)\n",
    "pred_dt = model_dt.transform(test)"
   ]
  },
  {
   "cell_type": "code",
   "execution_count": 34,
   "id": "943ec1c7-75ec-4d6f-a607-2cf1a025546f",
   "metadata": {
    "execution": {
     "iopub.execute_input": "2022-12-08T08:17:14.826580Z",
     "iopub.status.busy": "2022-12-08T08:17:14.826290Z",
     "iopub.status.idle": "2022-12-08T08:17:39.536152Z",
     "shell.execute_reply": "2022-12-08T08:17:39.535304Z",
     "shell.execute_reply.started": "2022-12-08T08:17:14.826542Z"
    },
    "tags": []
   },
   "outputs": [
    {
     "data": {
      "application/vnd.jupyter.widget-view+json": {
       "model_id": "9a616665e8af444ba7d9b3fc6720502d",
       "version_major": 2,
       "version_minor": 0
      },
      "text/plain": [
       "VBox()"
      ]
     },
     "metadata": {},
     "output_type": "display_data"
    },
    {
     "data": {
      "application/vnd.jupyter.widget-view+json": {
       "model_id": "",
       "version_major": 2,
       "version_minor": 0
      },
      "text/plain": [
       "FloatProgress(value=0.0, bar_style='info', description='Progress:', layout=Layout(height='25px', width='50%'),…"
      ]
     },
     "metadata": {},
     "output_type": "display_data"
    },
    {
     "name": "stdout",
     "output_type": "stream",
     "text": [
      "<built-in function time> 1670487458.5575294"
     ]
    }
   ],
   "source": [
    "evaluator = RegressionEvaluator()\n",
    "param_grid_dt = ParamGridBuilder()\\\n",
    "            .addGrid(dt.maxDepth, [1,2,3,4,5])\\\n",
    "            .build()\n",
    "crossvalidate = CrossValidator(estimator=dt,estimatorParamMaps=param_grid_dt, evaluator=evaluator,numFolds=5)\n",
    "tuned_model_dt = crossvalidate.fit(training)\n",
    "model_dt_best = tuned_model_dt.bestModel\n",
    "pred_dt_best = model_dt_best.transform(test)\n",
    "rmse_dt = evaluator.evaluate(pred_dt_best,{evaluator.metricName: \"rmse\"})\n",
    "rmse_dt\n",
    "end = time.time()\n",
    "print(start, end)"
   ]
  },
  {
   "cell_type": "code",
   "execution_count": 36,
   "id": "583636e8-9f90-4f98-9dbd-cad32f23cedc",
   "metadata": {
    "execution": {
     "iopub.execute_input": "2022-12-08T08:23:52.703455Z",
     "iopub.status.busy": "2022-12-08T08:23:52.703218Z",
     "iopub.status.idle": "2022-12-08T08:26:39.168104Z",
     "shell.execute_reply": "2022-12-08T08:26:39.167498Z",
     "shell.execute_reply.started": "2022-12-08T08:23:52.703430Z"
    },
    "tags": []
   },
   "outputs": [
    {
     "data": {
      "application/vnd.jupyter.widget-view+json": {
       "model_id": "1a6d777ac15a4ddf885aefffe7c3cd67",
       "version_major": 2,
       "version_minor": 0
      },
      "text/plain": [
       "VBox()"
      ]
     },
     "metadata": {},
     "output_type": "display_data"
    },
    {
     "data": {
      "application/vnd.jupyter.widget-view+json": {
       "model_id": "",
       "version_major": 2,
       "version_minor": 0
      },
      "text/plain": [
       "FloatProgress(value=0.0, bar_style='info', description='Progress:', layout=Layout(height='25px', width='50%'),…"
      ]
     },
     "metadata": {},
     "output_type": "display_data"
    },
    {
     "name": "stderr",
     "output_type": "stream",
     "text": [
      "Exception in thread cell_monitor-36:\n",
      "Traceback (most recent call last):\n",
      "  File \"/mnt/notebook-env/lib/python3.7/threading.py\", line 926, in _bootstrap_inner\n",
      "    self.run()\n",
      "  File \"/mnt/notebook-env/lib/python3.7/threading.py\", line 870, in run\n",
      "    self._target(*self._args, **self._kwargs)\n",
      "  File \"/mnt/notebook-env/lib/python3.7/site-packages/awseditorssparkmonitoringwidget-1.0-py3.7.egg/awseditorssparkmonitoringwidget/cellmonitor.py\", line 178, in cell_monitor\n",
      "    job_binned_stages[job_id][stage_id] = all_stages[stage_id]\n",
      "KeyError: 11399\n",
      "\n"
     ]
    },
    {
     "name": "stdout",
     "output_type": "stream",
     "text": [
      "<built-in function time> 1670487997.7872503"
     ]
    }
   ],
   "source": [
    "start2 = time.time\n",
    "gbt = GBTClassifier(maxIter=5, maxDepth=2)\n",
    "model_gbt = gbt.fit(training)\n",
    "pred_gbt = model_gbt.transform(test)\n",
    "param_grid_gbt = ParamGridBuilder()\\\n",
    "            .addGrid(gbt.maxIter, [1,2,3,4,5])\\\n",
    "            .addGrid(gbt.maxDepth, [1,2,3,4,5])\\\n",
    "            .build()\n",
    "crossvalidate = CrossValidator(estimator=gbt,estimatorParamMaps=param_grid_gbt, evaluator=evaluator,numFolds=5)\n",
    "tuned_model_gbt = crossvalidate.fit(training)\n",
    "model_gbt_best = tuned_model_gbt.bestModel\n",
    "pred_gbt_best = model_gbt_best.transform(test)\n",
    "rmse_gbt = evaluator.evaluate(pred_gbt_best,{evaluator.metricName: \"rmse\"})\n",
    "rmse_gbt\n",
    "end2 = time.time()\n",
    "print(start2, end2)"
   ]
  },
  {
   "cell_type": "code",
   "execution_count": 37,
   "id": "e0c66b23-5295-47f8-bbeb-3fb3becdf3b0",
   "metadata": {
    "execution": {
     "iopub.execute_input": "2022-12-08T08:27:50.893169Z",
     "iopub.status.busy": "2022-12-08T08:27:50.892931Z",
     "iopub.status.idle": "2022-12-08T08:27:50.956408Z",
     "shell.execute_reply": "2022-12-08T08:27:50.955848Z",
     "shell.execute_reply.started": "2022-12-08T08:27:50.893143Z"
    }
   },
   "outputs": [
    {
     "data": {
      "application/vnd.jupyter.widget-view+json": {
       "model_id": "16ad50f10be8477790952841f40f7fe2",
       "version_major": 2,
       "version_minor": 0
      },
      "text/plain": [
       "VBox()"
      ]
     },
     "metadata": {},
     "output_type": "display_data"
    },
    {
     "data": {
      "application/vnd.jupyter.widget-view+json": {
       "model_id": "",
       "version_major": 2,
       "version_minor": 0
      },
      "text/plain": [
       "FloatProgress(value=0.0, bar_style='info', description='Progress:', layout=Layout(height='25px', width='50%'),…"
      ]
     },
     "metadata": {},
     "output_type": "display_data"
    }
   ],
   "source": [
    "(training,test)=df_pip.randomSplit([0.6, 0.6])"
   ]
  },
  {
   "cell_type": "code",
   "execution_count": 38,
   "id": "ea4ecbd2-35f8-457d-a66c-115696d80dcb",
   "metadata": {
    "execution": {
     "iopub.execute_input": "2022-12-08T08:27:54.099612Z",
     "iopub.status.busy": "2022-12-08T08:27:54.099247Z",
     "iopub.status.idle": "2022-12-08T08:28:34.711844Z",
     "shell.execute_reply": "2022-12-08T08:28:34.650907Z",
     "shell.execute_reply.started": "2022-12-08T08:27:54.099585Z"
    }
   },
   "outputs": [
    {
     "data": {
      "application/vnd.jupyter.widget-view+json": {
       "model_id": "98d3b1064cd94d21b08084f59e448f35",
       "version_major": 2,
       "version_minor": 0
      },
      "text/plain": [
       "VBox()"
      ]
     },
     "metadata": {},
     "output_type": "display_data"
    },
    {
     "data": {
      "application/vnd.jupyter.widget-view+json": {
       "model_id": "",
       "version_major": 2,
       "version_minor": 0
      },
      "text/plain": [
       "FloatProgress(value=0.0, bar_style='info', description='Progress:', layout=Layout(height='25px', width='50%'),…"
      ]
     },
     "metadata": {},
     "output_type": "display_data"
    },
    {
     "name": "stdout",
     "output_type": "stream",
     "text": [
      "<built-in function time> 1670488112.8040798"
     ]
    }
   ],
   "source": [
    "start3= time.time\n",
    "dt = DecisionTreeClassifier(featuresCol = 'features', labelCol = 'label', maxDepth = 3)\n",
    "model_dt = dt.fit(training)\n",
    "pred_dt = model_dt.transform(test)\n",
    "evaluator = RegressionEvaluator()\n",
    "param_grid_dt = ParamGridBuilder()\\\n",
    "            .addGrid(dt.maxDepth, [1,2,3,4,5])\\\n",
    "            .build()\n",
    "crossvalidate = CrossValidator(estimator=dt,estimatorParamMaps=param_grid_dt, evaluator=evaluator,numFolds=5)\n",
    "tuned_model_dt = crossvalidate.fit(training)\n",
    "model_dt_best = tuned_model_dt.bestModel\n",
    "pred_dt_best = model_dt_best.transform(test)\n",
    "rmse_dt = evaluator.evaluate(pred_dt_best,{evaluator.metricName: \"rmse\"})\n",
    "rmse_dt\n",
    "end3 = time.time()\n",
    "print(start3, end3)"
   ]
  },
  {
   "cell_type": "code",
   "execution_count": 39,
   "id": "ec8f43df-37a1-47e4-b10c-4420d8caa606",
   "metadata": {
    "execution": {
     "iopub.execute_input": "2022-12-08T08:28:34.737251Z",
     "iopub.status.busy": "2022-12-08T08:28:34.735803Z",
     "iopub.status.idle": "2022-12-08T08:30:59.657440Z",
     "shell.execute_reply": "2022-12-08T08:30:59.656691Z",
     "shell.execute_reply.started": "2022-12-08T08:28:34.737219Z"
    }
   },
   "outputs": [
    {
     "data": {
      "application/vnd.jupyter.widget-view+json": {
       "model_id": "f58503d5ab314ffe8582301544bcc81f",
       "version_major": 2,
       "version_minor": 0
      },
      "text/plain": [
       "VBox()"
      ]
     },
     "metadata": {},
     "output_type": "display_data"
    },
    {
     "data": {
      "application/vnd.jupyter.widget-view+json": {
       "model_id": "",
       "version_major": 2,
       "version_minor": 0
      },
      "text/plain": [
       "FloatProgress(value=0.0, bar_style='info', description='Progress:', layout=Layout(height='25px', width='50%'),…"
      ]
     },
     "metadata": {},
     "output_type": "display_data"
    },
    {
     "name": "stderr",
     "output_type": "stream",
     "text": [
      "Exception in thread cell_monitor-39:\n",
      "Traceback (most recent call last):\n",
      "  File \"/mnt/notebook-env/lib/python3.7/threading.py\", line 926, in _bootstrap_inner\n",
      "    self.run()\n",
      "  File \"/mnt/notebook-env/lib/python3.7/threading.py\", line 870, in run\n",
      "    self._target(*self._args, **self._kwargs)\n",
      "  File \"/mnt/notebook-env/lib/python3.7/site-packages/awseditorssparkmonitoringwidget-1.0-py3.7.egg/awseditorssparkmonitoringwidget/cellmonitor.py\", line 178, in cell_monitor\n",
      "    job_binned_stages[job_id][stage_id] = all_stages[stage_id]\n",
      "KeyError: 14298\n",
      "\n"
     ]
    },
    {
     "name": "stdout",
     "output_type": "stream",
     "text": [
      "<built-in function time> 1670488259.5173657"
     ]
    }
   ],
   "source": [
    "start4 = time.time\n",
    "gbt = GBTClassifier(maxIter=5, maxDepth=2)\n",
    "model_gbt = gbt.fit(training)\n",
    "pred_gbt = model_gbt.transform(test)\n",
    "param_grid_gbt = ParamGridBuilder()\\\n",
    "            .addGrid(gbt.maxIter, [1,2,3,4,5])\\\n",
    "            .addGrid(gbt.maxDepth, [1,2,3,4,5])\\\n",
    "            .build()\n",
    "crossvalidate = CrossValidator(estimator=gbt,estimatorParamMaps=param_grid_gbt, evaluator=evaluator,numFolds=5)\n",
    "tuned_model_gbt = crossvalidate.fit(training)\n",
    "model_gbt_best = tuned_model_gbt.bestModel\n",
    "pred_gbt_best = model_gbt_best.transform(test)\n",
    "rmse_gbt = evaluator.evaluate(pred_gbt_best,{evaluator.metricName: \"rmse\"})\n",
    "rmse_gbt\n",
    "end4 = time.time()\n",
    "print(start4, end4)"
   ]
  },
  {
   "cell_type": "code",
   "execution_count": null,
   "id": "6155a9fc-c14d-4b41-96d7-16abc59b2899",
   "metadata": {},
   "outputs": [],
   "source": []
  }
 ],
 "metadata": {
  "kernelspec": {
   "display_name": "PySpark",
   "language": "python",
   "name": "pysparkkernel"
  },
  "language_info": {
   "codemirror_mode": {
    "name": "python",
    "version": 3
   },
   "file_extension": ".py",
   "mimetype": "text/x-python",
   "name": "pyspark",
   "pygments_lexer": "python3"
  }
 },
 "nbformat": 4,
 "nbformat_minor": 5
}
